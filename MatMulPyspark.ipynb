{
 "cells": [
  {
   "cell_type": "markdown",
   "metadata": {},
   "source": [
    "# TensorFlow with Apache Spark\n",
    "This notebook is example how to use Apache Spark with TensorFlow. To run this example, there have to be installed both Apache Spark and TensorFlow. In command line simply enter:\n",
    "<nbs><code>PYSPARK_DRIVER_PYTHON=ipython PYSPARK_DRIVER_PYTHON_OPTS=\"notebook --port=7777\" pyspark</code> (you can add more configure parameters).\n",
    "<nbs>\n",
    "Results are ploted with <a href='www.plotly.ly'>Plotly</a>, and that are results from local machine. We assume that results for Apache Spark will be much better if configured and runned across cluster."
   ]
  },
  {
   "cell_type": "code",
   "execution_count": 1,
   "metadata": {
    "collapsed": false
   },
   "outputs": [
    {
     "data": {
      "text/html": [
       "<script>requirejs.config({paths: { 'plotly': ['https://cdn.plot.ly/plotly-latest.min']},});if(!window.Plotly) {{require(['plotly'],function(plotly) {window.Plotly=plotly;});}}</script>"
      ],
      "text/plain": [
       "<IPython.core.display.HTML object>"
      ]
     },
     "metadata": {},
     "output_type": "display_data"
    }
   ],
   "source": [
    "import tensorflow as tf\n",
    "import numpy as np\n",
    "import time\n",
    "\n",
    "from plotly.offline import download_plotlyjs, init_notebook_mode, plot, iplot\n",
    "import plotly.graph_objs as go\n",
    "\n",
    "init_notebook_mode(connected=True)\n",
    "\n",
    "\n",
    "%matplotlib inline "
   ]
  },
  {
   "cell_type": "markdown",
   "metadata": {},
   "source": [
    "## Plot Function\n",
    "Plot function will draw 4 line function. Results got with running:\n",
    "- Spark + GPU\n",
    "- Spark + CPU\n",
    "- Sequential on GPU\n",
    "- Sequential on CPU"
   ]
  },
  {
   "cell_type": "code",
   "execution_count": 15,
   "metadata": {
    "collapsed": false
   },
   "outputs": [],
   "source": [
    "def plot(x_ax, data_p, data_s, title_value, x_name = 'Square matrix size', y_name = 'Time (seconds)'):\n",
    "    gpu_spark = [x['EXECUTION_TIME'] for x in data_p if x['DEVICE']=='/gpu:0']\n",
    "    gpu_seq = [x['EXECUTION_TIME'] for x in data_s if x['DEVICE']=='/gpu:0']\n",
    "    cpu_spark = [x['EXECUTION_TIME'] for x in data_p if x['DEVICE']=='/cpu:0']\n",
    "    cpu_seq = [x['EXECUTION_TIME'] for x in data_s if x['DEVICE']=='/cpu:0']\n",
    "    \n",
    "    gpu_spark_fig = go.Scatter(\n",
    "        x = x_ax,\n",
    "        y = gpu_spark,\n",
    "        mode = 'lines+markers',\n",
    "        name = 'gpu_spark',\n",
    "        line = dict(\n",
    "            width = 4,\n",
    "            dash = 'dashdot'\n",
    "        )\n",
    "    )\n",
    "    \n",
    "    cpu_spark_fig = go.Scatter(\n",
    "        x = x_ax,\n",
    "        y = cpu_spark,\n",
    "        mode = 'lines+markers',\n",
    "        name = 'cpu_spark',\n",
    "        line = dict(\n",
    "            width = 4,\n",
    "            dash = 'dashdot'\n",
    "        )\n",
    "    )\n",
    "    \n",
    "    gpu_seq_fig = go.Scatter(\n",
    "        x = x_ax,\n",
    "        y = gpu_seq,\n",
    "        mode = 'lines+markers',\n",
    "        name = 'gpu_seq',\n",
    "    )\n",
    "    \n",
    "    cpu_seq_fig = go.Scatter(\n",
    "        x = x_ax,\n",
    "        y = cpu_seq,\n",
    "        mode = 'lines+markers',\n",
    "        name = 'cpu_seq',\n",
    "    )\n",
    "\n",
    "    data = [gpu_seq_fig, gpu_spark_fig, cpu_seq_fig, cpu_spark_fig]\n",
    "\n",
    "    layout = dict(title = title_value,\n",
    "              xaxis = dict(title = x_name),\n",
    "              yaxis = dict(title = y_name),\n",
    "              )\n",
    "    fig = dict(data=data, layout=layout)\n",
    "\n",
    "    iplot(fig)"
   ]
  },
  {
   "cell_type": "markdown",
   "metadata": {},
   "source": [
    "## Execute\n",
    "These two functions <code>execute</code> and <code>make_expression</code> are function that make and run tensorflow code. Function <code>make_expression</code> has to be passed in Spark <code>RDD.map</code> function to be executed in parallel."
   ]
  },
  {
   "cell_type": "code",
   "execution_count": 3,
   "metadata": {
    "collapsed": true
   },
   "outputs": [],
   "source": [
    "def execute(expression):\n",
    "    config = tf.ConfigProto()\n",
    "    config.gpu_options.allow_growth=True\n",
    "    with tf.Session(config=config) as sess:\n",
    "        start_time = time.time()\n",
    "        result = sess.run(expression)\n",
    "        time_taken = time.time() - start_time\n",
    "    \n",
    "    return time_taken"
   ]
  },
  {
   "cell_type": "code",
   "execution_count": 4,
   "metadata": {
    "collapsed": true
   },
   "outputs": [],
   "source": [
    "def make_expression(size, device):\n",
    "    shape = (size, size)\n",
    "    data_type = tf.float16\n",
    "    with tf.device(device):\n",
    "        a = tf.random_normal(shape=shape, dtype=data_type)\n",
    "        b = tf.random_normal(shape=shape, dtype=data_type)\n",
    "        c = tf.matmul(a,b)\n",
    "    \n",
    "    return execute(c)"
   ]
  },
  {
   "cell_type": "markdown",
   "metadata": {},
   "source": [
    "## Test\n",
    "For given sizes of square matrix and number of operation for processing this function first measure execution time with Spark (CPU and GPU), and then, measures execution time of same operation, but sequential in for loop."
   ]
  },
  {
   "cell_type": "code",
   "execution_count": 5,
   "metadata": {
    "collapsed": false
   },
   "outputs": [],
   "source": [
    "def test(sizes, number):\n",
    "    devices = ['/gpu:0','/cpu:0']\n",
    "    parallel_results = []\n",
    "    sequential_results = []\n",
    "    \n",
    "    #WITH SPARK\n",
    "    print 'SPARK'\n",
    "    for device in devices:\n",
    "        for size in sizes:\n",
    "            start_time = time.time()\n",
    "            sc.parallelize([(size,device)]*number).map(lambda x:make_expression(x[0],x[1])).collect()            \n",
    "            time_taken = time.time() - start_time\n",
    "            #print 'DEVICE',device,'MATRIX_SHAPE',size,'EXECUTION_TIME',time_taken,'EXPR_NUM',number\n",
    "            #print '*******************************************************************************'\n",
    "            parallel_results.append(\n",
    "                {'DEVICE':device,'MATRIX_SHAPE':size,'EXECUTION_TIME':time_taken,'EXPR_NUM':number})\n",
    "            tf.Session()\n",
    "    \n",
    "    #WITHOUT SPARK\n",
    "    print 'SEQUENTIAL'\n",
    "    for device in devices:\n",
    "        for size in sizes:\n",
    "            start_time = time.time()\n",
    "            \n",
    "            for i in range(number):\n",
    "                make_expression(size, device)\n",
    "            \n",
    "            time_taken = time.time() - start_time\n",
    "            #print 'DEVICE',device,'MATRIX_SHAPE',size,'EXECUTION_TIME',time_taken,'EXPR_NUM',number\n",
    "            #print '*******************************************************************************'\n",
    "            sequential_results.append({'DEVICE':device,'MATRIX_SHAPE':size,'EXECUTION_TIME':time_taken,'EXPR_NUM':number})\n",
    "    \n",
    "    return parallel_results,sequential_results\n",
    "        "
   ]
  },
  {
   "cell_type": "code",
   "execution_count": 16,
   "metadata": {
    "collapsed": false
   },
   "outputs": [],
   "source": [
    "sizes = [100, 500, 1000, 2000]\n",
    "n = [10, 30, 100, 200]\n",
    "title_shape = 'Process {} operations with and without Spark using CPU and GPU'"
   ]
  },
  {
   "cell_type": "markdown",
   "metadata": {},
   "source": [
    "## Results"
   ]
  },
  {
   "cell_type": "code",
   "execution_count": 27,
   "metadata": {
    "collapsed": false
   },
   "outputs": [
    {
     "data": {
      "text/html": [
       "<div id=\"eb1e4cc5-e9d2-42a7-8cbf-85294b1cb886\" style=\"height: 525px; width: 100%;\" class=\"plotly-graph-div\"></div><script type=\"text/javascript\">require([\"plotly\"], function(Plotly) { window.PLOTLYENV=window.PLOTLYENV || {};window.PLOTLYENV.BASE_URL=\"https://plot.ly\";Plotly.newPlot(\"eb1e4cc5-e9d2-42a7-8cbf-85294b1cb886\", [{\"y\": [2.3625950813293457, 2.5766608715057373, 2.937682867050171, 3.3946518898010254], \"x\": [100, 500, 1000, 2000], \"type\": \"scatter\", \"name\": \"gpu_seq\", \"mode\": \"lines+markers\"}, {\"name\": \"gpu_spark\", \"mode\": \"lines+markers\", \"y\": [3.9009408950805664, 0.11211490631103516, 0.15510082244873047, 0.3218660354614258], \"x\": [100, 500, 1000, 2000], \"line\": {\"dash\": \"dashdot\", \"width\": 4}, \"type\": \"scatter\"}, {\"y\": [3.4817230701446533, 7.094826936721802, 31.049838066101074, 217.27836108207703], \"x\": [100, 500, 1000, 2000], \"type\": \"scatter\", \"name\": \"cpu_seq\", \"mode\": \"lines+markers\"}, {\"name\": \"cpu_spark\", \"mode\": \"lines+markers\", \"y\": [0.1842660903930664, 3.5085089206695557, 28.154508113861084, 216.2217721939087], \"x\": [100, 500, 1000, 2000], \"line\": {\"dash\": \"dashdot\", \"width\": 4}, \"type\": \"scatter\"}], {\"title\": \"Processing 10 operations with and without Spark using CPU and GPU\", \"xaxis\": {\"title\": \"Square matrix size\"}, \"yaxis\": {\"title\": \"Time (seconds)\"}}, {\"linkText\": \"Export to plot.ly\", \"showLink\": true})});</script>"
      ],
      "text/plain": [
       "<IPython.core.display.HTML object>"
      ]
     },
     "metadata": {},
     "output_type": "display_data"
    }
   ],
   "source": [
    "r1 = test(sizes, n[0])\n",
    "plot(sizes, r1[0], r1[1], title_shape.format(n[0]))"
   ]
  },
  {
   "cell_type": "code",
   "execution_count": 28,
   "metadata": {
    "collapsed": false
   },
   "outputs": [
    {
     "data": {
      "text/html": [
       "<div id=\"bf36589f-adc2-4fef-9d5d-640a183defbd\" style=\"height: 525px; width: 100%;\" class=\"plotly-graph-div\"></div><script type=\"text/javascript\">require([\"plotly\"], function(Plotly) { window.PLOTLYENV=window.PLOTLYENV || {};window.PLOTLYENV.BASE_URL=\"https://plot.ly\";Plotly.newPlot(\"bf36589f-adc2-4fef-9d5d-640a183defbd\", [{\"y\": [14.536118984222412, 16.792603015899658, 19.356809854507446, 22.378365993499756], \"x\": [100, 500, 1000, 2000], \"type\": \"scatter\", \"name\": \"gpu_seq\", \"mode\": \"lines+markers\"}, {\"name\": \"gpu_spark\", \"mode\": \"lines+markers\", \"y\": [4.085139989852905, 0.35605287551879883, 0.4060850143432617, 0.8495910167694092], \"x\": [100, 500, 1000, 2000], \"line\": {\"dash\": \"dashdot\", \"width\": 4}, \"type\": \"scatter\"}, {\"y\": [24.100234031677246, 36.78387117385864, 108.8386778831482, 666.3296978473663], \"x\": [100, 500, 1000, 2000], \"type\": \"scatter\", \"name\": \"cpu_seq\", \"mode\": \"lines+markers\"}, {\"name\": \"cpu_spark\", \"mode\": \"lines+markers\", \"y\": [0.6840720176696777, 10.53774118423462, 81.95024108886719, 642.1191439628601], \"x\": [100, 500, 1000, 2000], \"line\": {\"dash\": \"dashdot\", \"width\": 4}, \"type\": \"scatter\"}], {\"title\": \"Processing 30 operations with and without Spark using CPU and GPU\", \"xaxis\": {\"title\": \"Square matrix size\"}, \"yaxis\": {\"title\": \"Time (seconds)\"}}, {\"linkText\": \"Export to plot.ly\", \"showLink\": true})});</script>"
      ],
      "text/plain": [
       "<IPython.core.display.HTML object>"
      ]
     },
     "metadata": {},
     "output_type": "display_data"
    }
   ],
   "source": [
    "r2 = test(sizes, n[1])\n",
    "plot(sizes, r2[0], r2[1], n[1], title_shape.format(n[1]))"
   ]
  },
  {
   "cell_type": "code",
   "execution_count": 29,
   "metadata": {
    "collapsed": false
   },
   "outputs": [
    {
     "data": {
      "text/html": [
       "<div id=\"37f67ad7-2b9b-469f-b9c9-9297bbe423e0\" style=\"height: 525px; width: 100%;\" class=\"plotly-graph-div\"></div><script type=\"text/javascript\">require([\"plotly\"], function(Plotly) { window.PLOTLYENV=window.PLOTLYENV || {};window.PLOTLYENV.BASE_URL=\"https://plot.ly\";Plotly.newPlot(\"37f67ad7-2b9b-469f-b9c9-9297bbe423e0\", [{\"y\": [120.4700870513916, 146.79430413246155, 173.7816309928894, 202.10336899757385], \"x\": [100, 500, 1000, 2000], \"type\": \"scatter\", \"name\": \"gpu_seq\", \"mode\": \"lines+markers\"}, {\"name\": \"gpu_spark\", \"mode\": \"lines+markers\", \"y\": [4.705356121063232, 1.8319687843322754, 2.5453410148620605, 4.037353038787842], \"x\": [100, 500, 1000, 2000], \"line\": {\"dash\": \"dashdot\", \"width\": 4}, \"type\": \"scatter\"}, {\"y\": [227.2180881500244, 289.20478796958923, 548.2626919746399, 2424.6854090690613], \"x\": [100, 500, 1000, 2000], \"type\": \"scatter\", \"name\": \"cpu_seq\", \"mode\": \"lines+markers\"}, {\"name\": \"cpu_spark\", \"mode\": \"lines+markers\", \"y\": [4.676326036453247, 38.234493017196655, 273.5488209724426, 2125.349940061569], \"x\": [100, 500, 1000, 2000], \"line\": {\"dash\": \"dashdot\", \"width\": 4}, \"type\": \"scatter\"}], {\"title\": \"Processing 100 operations with and without Spark using CPU and GPU\", \"xaxis\": {\"title\": \"Square matrix size\"}, \"yaxis\": {\"title\": \"Time (seconds)\"}}, {\"linkText\": \"Export to plot.ly\", \"showLink\": true})});</script>"
      ],
      "text/plain": [
       "<IPython.core.display.HTML object>"
      ]
     },
     "metadata": {},
     "output_type": "display_data"
    }
   ],
   "source": [
    "r3 = test(sizes, n[2])\n",
    "plot(sizes, r3[0], r3[1], n[2], title_shape.format(n[2]))"
   ]
  },
  {
   "cell_type": "code",
   "execution_count": 17,
   "metadata": {
    "collapsed": false
   },
   "outputs": [
    {
     "data": {
      "text/html": [
       "<div id=\"aa0c0ed1-1536-464e-97da-b1e878eaeea2\" style=\"height: 525px; width: 100%;\" class=\"plotly-graph-div\"></div><script type=\"text/javascript\">require([\"plotly\"], function(Plotly) { window.PLOTLYENV=window.PLOTLYENV || {};window.PLOTLYENV.BASE_URL=\"https://plot.ly\";Plotly.newPlot(\"aa0c0ed1-1536-464e-97da-b1e878eaeea2\", [{\"y\": [57.11543297767639, 167.22893810272217, 280.14693307876587, 400.78387117385864], \"x\": [100, 500, 1000, 2000], \"type\": \"scatter\", \"name\": \"gpu_seq\", \"mode\": \"lines+markers\"}, {\"name\": \"gpu_spark\", \"mode\": \"lines+markers\", \"y\": [6.659430980682373, 5.451027870178223, 8.509774923324585, 12.29786491394043], \"x\": [100, 500, 1000, 2000], \"line\": {\"dash\": \"dashdot\", \"width\": 4}, \"type\": \"scatter\"}, {\"y\": [524.6449041366577, 691.5281250476837, 1255.118293762207, 5070.047838926315], \"x\": [100, 500, 1000, 2000], \"type\": \"scatter\", \"name\": \"cpu_seq\", \"mode\": \"lines+markers\"}, {\"name\": \"cpu_spark\", \"mode\": \"lines+markers\", \"y\": [15.154796123504639, 84.64978504180908, 562.5583231449127, 4323.028792858124], \"x\": [100, 500, 1000, 2000], \"line\": {\"dash\": \"dashdot\", \"width\": 4}, \"type\": \"scatter\"}], {\"title\": \"Process 200 operations with and without Spark using CPU and GPU\", \"xaxis\": {\"title\": \"Square matrix size\"}, \"yaxis\": {\"title\": \"Time (seconds)\"}}, {\"linkText\": \"Export to plot.ly\", \"showLink\": true})});</script>"
      ],
      "text/plain": [
       "<IPython.core.display.HTML object>"
      ]
     },
     "metadata": {},
     "output_type": "display_data"
    }
   ],
   "source": [
    "#r4 = test(sizes, n[3])\n",
    "plot(sizes, r4[0], r4[1], title_shape.format(n[3]))"
   ]
  },
  {
   "cell_type": "code",
   "execution_count": 19,
   "metadata": {
    "collapsed": false
   },
   "outputs": [
    {
     "data": {
      "text/html": [
       "<div id=\"f9c4cc70-6f1d-453d-af69-865c02a5239a\" style=\"height: 525px; width: 100%;\" class=\"plotly-graph-div\"></div><script type=\"text/javascript\">require([\"plotly\"], function(Plotly) { window.PLOTLYENV=window.PLOTLYENV || {};window.PLOTLYENV.BASE_URL=\"https://plot.ly\";Plotly.newPlot(\"f9c4cc70-6f1d-453d-af69-865c02a5239a\", [{\"y\": [57.11543297767639, 167.22893810272217, 280.14693307876587, 400.78387117385864], \"x\": [10, 30, 100, 200], \"type\": \"scatter\", \"name\": \"gpu_seq\", \"mode\": \"lines+markers\"}, {\"name\": \"gpu_spark\", \"mode\": \"lines+markers\", \"y\": [6.659430980682373, 5.451027870178223, 8.509774923324585, 12.29786491394043], \"x\": [10, 30, 100, 200], \"line\": {\"dash\": \"dashdot\", \"width\": 4}, \"type\": \"scatter\"}, {\"y\": [524.6449041366577, 691.5281250476837, 1255.118293762207, 5070.047838926315], \"x\": [10, 30, 100, 200], \"type\": \"scatter\", \"name\": \"cpu_seq\", \"mode\": \"lines+markers\"}, {\"name\": \"cpu_spark\", \"mode\": \"lines+markers\", \"y\": [15.154796123504639, 84.64978504180908, 562.5583231449127, 4323.028792858124], \"x\": [10, 30, 100, 200], \"line\": {\"dash\": \"dashdot\", \"width\": 4}, \"type\": \"scatter\"}], {\"title\": \"Time needed for N matrix multiplication of size 2000\", \"xaxis\": {\"title\": \"# of matrix multiplication N\"}, \"yaxis\": {\"title\": \"Time (seconds)\"}}, {\"linkText\": \"Export to plot.ly\", \"showLink\": true})});</script>"
      ],
      "text/plain": [
       "<IPython.core.display.HTML object>"
      ]
     },
     "metadata": {},
     "output_type": "display_data"
    }
   ],
   "source": [
    "plot(n, r4[0], r4[1],\n",
    "     'Time needed for N matrix multiplication of size {}'.format(sizes[-1]),'# of matrix multiplication N')"
   ]
  },
  {
   "cell_type": "code",
   "execution_count": null,
   "metadata": {
    "collapsed": true
   },
   "outputs": [],
   "source": []
  }
 ],
 "metadata": {
  "kernelspec": {
   "display_name": "Python 2",
   "language": "python",
   "name": "python2"
  },
  "language_info": {
   "codemirror_mode": {
    "name": "ipython",
    "version": 2
   },
   "file_extension": ".py",
   "mimetype": "text/x-python",
   "name": "python",
   "nbconvert_exporter": "python",
   "pygments_lexer": "ipython2",
   "version": "2.7.12"
  }
 },
 "nbformat": 4,
 "nbformat_minor": 2
}
