{
 "cells": [
  {
   "cell_type": "markdown",
   "metadata": {},
   "source": [
    "# Matrix Multiplication \n",
    "This notebook compares time of matrix multiplication on GPU and on CPU using <a href='https://www.tensorflow.org/'>TensorFlow</a>"
   ]
  },
  {
   "cell_type": "code",
   "execution_count": 28,
   "metadata": {
    "collapsed": false
   },
   "outputs": [
    {
     "data": {
      "text/html": [
       "<script>requirejs.config({paths: { 'plotly': ['https://cdn.plot.ly/plotly-latest.min']},});if(!window.Plotly) {{require(['plotly'],function(plotly) {window.Plotly=plotly;});}}</script>"
      ],
      "text/plain": [
       "<IPython.core.display.HTML object>"
      ]
     },
     "metadata": {},
     "output_type": "display_data"
    }
   ],
   "source": [
    "import tensorflow as tf\n",
    "import numpy as np\n",
    "import time\n",
    "\n",
    "from plotly.offline import download_plotlyjs, init_notebook_mode, plot, iplot\n",
    "import plotly.graph_objs as go\n",
    "\n",
    "init_notebook_mode(connected=True)\n",
    "\n",
    "\n",
    "%matplotlib inline "
   ]
  },
  {
   "cell_type": "markdown",
   "metadata": {},
   "source": [
    "## Interactive Plot\n",
    "Results will be plot using <a href='https://plot.ly/'>Plotly</a> visualization library."
   ]
  },
  {
   "cell_type": "code",
   "execution_count": 29,
   "metadata": {
    "collapsed": true
   },
   "outputs": [],
   "source": [
    "def show_interactive(sizes, gpu, cpu, filename):\n",
    "    gpu_fig = go.Scatter(\n",
    "        x = sizes,\n",
    "        y = gpu,\n",
    "        mode = 'lines+markers',\n",
    "        name = 'gpu'\n",
    "    )\n",
    "    \n",
    "    cpu_fig = go.Scatter(\n",
    "        x = sizes,\n",
    "        y = cpu,\n",
    "        mode = 'lines+markers',\n",
    "        name = 'cpu'\n",
    "    )\n",
    "\n",
    "    data = [gpu_fig, cpu_fig]\n",
    "\n",
    "    layout = dict(title = 'Comparision of matrix multiplication time between CPU and GPU',\n",
    "              xaxis = dict(title = 'Square matrix size'),\n",
    "              yaxis = dict(title = 'Time (seconds)'),\n",
    "              )\n",
    "    fig = dict(data=data, layout=layout)\n",
    "\n",
    "    iplot(fig, filename=filename)"
   ]
  },
  {
   "cell_type": "markdown",
   "metadata": {},
   "source": [
    "## Measure single execution\n",
    "This function executes given tensorflow expression and measures it's time of execution"
   ]
  },
  {
   "cell_type": "code",
   "execution_count": 30,
   "metadata": {
    "collapsed": true
   },
   "outputs": [],
   "source": [
    "def measure_time(expression):\n",
    "    config = tf.ConfigProto()\n",
    "    config.gpu_options.allow_growth=True\n",
    "    with tf.Session(config=config) as sess:\n",
    "        start_time = time.time()\n",
    "        result = sess.run(expression)\n",
    "        time_taken = time.time() - start_time\n",
    "    \n",
    "    return time_taken"
   ]
  },
  {
   "cell_type": "markdown",
   "metadata": {},
   "source": [
    "## Testing\n",
    "For given list of sizes, perform matrix multiplication and collects results for GPU and CPU"
   ]
  },
  {
   "cell_type": "code",
   "execution_count": 31,
   "metadata": {
    "collapsed": true
   },
   "outputs": [],
   "source": [
    "def test(sizes):\n",
    "    devices = ['/gpu:0','/cpu:0']\n",
    "    results = []\n",
    "    for device in devices:\n",
    "        for size in sizes:\n",
    "            shape = (size,size)\n",
    "            data_type = tf.float32\n",
    "            \n",
    "            with tf.device(device):\n",
    "                a = tf.random_normal(shape=shape, dtype=data_type)\n",
    "                b = tf.random_normal(shape=shape, dtype=data_type)\n",
    "                c = tf.matmul(a,b)\n",
    "            \n",
    "            #print 'DEVICE',device,'MATRIX_SHAPE',shape, 'EXECUTION_TIME',measure_time(c)\n",
    "            results.append({'DEVICE':device,'MATRIX_SHAPE':shape, 'EXECUTION_TIME':measure_time(c)})\n",
    "    return results"
   ]
  },
  {
   "cell_type": "code",
   "execution_count": 35,
   "metadata": {
    "collapsed": false
   },
   "outputs": [],
   "source": [
    "sizes = [100, 500, 1000, 3000, 5000, 6500, 8000, 10000]\n",
    "results = test(sizes)"
   ]
  },
  {
   "cell_type": "code",
   "execution_count": 36,
   "metadata": {
    "collapsed": false
   },
   "outputs": [
    {
     "data": {
      "text/html": [
       "<div id=\"c5ce56cd-5f40-4098-8d31-5f86e2ee83dc\" style=\"height: 525px; width: 100%;\" class=\"plotly-graph-div\"></div><script type=\"text/javascript\">require([\"plotly\"], function(Plotly) { window.PLOTLYENV=window.PLOTLYENV || {};window.PLOTLYENV.BASE_URL=\"https://plot.ly\";Plotly.newPlot(\"c5ce56cd-5f40-4098-8d31-5f86e2ee83dc\", [{\"y\": [0.1992340087890625, 0.12234210968017578, 0.12663698196411133, 0.20212507247924805, 0.437114953994751, 0.7468698024749756, 1.306015968322754, 2.2891829013824463], \"x\": [100, 500, 1000, 3000, 5000, 6500, 8000, 10000], \"type\": \"scatter\", \"name\": \"gpu\", \"mode\": \"lines+markers\"}, {\"y\": [0.2044358253479004, 0.15860509872436523, 0.21170997619628906, 0.9016499519348145, 3.150599956512451, 6.5794761180877686, 11.774492979049683, 22.82315492630005], \"x\": [100, 500, 1000, 3000, 5000, 6500, 8000, 10000], \"type\": \"scatter\", \"name\": \"cpu\", \"mode\": \"lines+markers\"}], {\"title\": \"Comparision of matrix multiplication time between CPU and GPU\", \"xaxis\": {\"title\": \"Square matrix size\"}, \"yaxis\": {\"title\": \"Time (seconds)\"}}, {\"linkText\": \"Export to plot.ly\", \"showLink\": true})});</script>"
      ],
      "text/plain": [
       "<IPython.core.display.HTML object>"
      ]
     },
     "metadata": {},
     "output_type": "display_data"
    }
   ],
   "source": [
    "cpu = [x['EXECUTION_TIME'] for x in results if x['DEVICE']=='/cpu:0']\n",
    "gpu = [x['EXECUTION_TIME'] for x in results if x['DEVICE']=='/gpu:0']\n",
    "\n",
    "show_interactive(sizes, gpu, cpu, 'cpu_vs_gpu')"
   ]
  },
  {
   "cell_type": "code",
   "execution_count": null,
   "metadata": {
    "collapsed": true
   },
   "outputs": [],
   "source": []
  }
 ],
 "metadata": {
  "kernelspec": {
   "display_name": "Python 2",
   "language": "python",
   "name": "python2"
  },
  "language_info": {
   "codemirror_mode": {
    "name": "ipython",
    "version": 2
   },
   "file_extension": ".py",
   "mimetype": "text/x-python",
   "name": "python",
   "nbconvert_exporter": "python",
   "pygments_lexer": "ipython2",
   "version": "2.7.12"
  }
 },
 "nbformat": 4,
 "nbformat_minor": 2
}
